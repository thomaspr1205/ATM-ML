{
  "cells": [
    {
      "cell_type": "markdown",
      "metadata": {
        "colab_type": "text",
        "id": "view-in-github"
      },
      "source": [
        "<a href=\"https://colab.research.google.com/github/thomaspr1205/ATM-ML/blob/main/ATM.ipynb\" target=\"_parent\"><img src=\"https://colab.research.google.com/assets/colab-badge.svg\" alt=\"Open In Colab\"/></a>"
      ]
    },
    {
      "cell_type": "markdown",
      "metadata": {
        "id": "FZoCkPdZDvpx"
      },
      "source": [
        "# ATM\n",
        "- Preston Barney\n",
        "- Roie\n",
        "- Doug\n",
        "- Thomas Pena\n"
      ]
    },
    {
      "cell_type": "markdown",
      "metadata": {
        "id": "T7CqUYGUEEbH"
      },
      "source": [
        "# Data Exploration\n",
        "\n"
      ]
    },
    {
      "cell_type": "markdown",
      "metadata": {
        "id": "Y5iUdKZjDeA9"
      },
      "source": [
        "# Pre Processing\n",
        "\n",
        "1. merge csv\n",
        "2. label\n",
        "\n",
        "\n",
        "\n"
      ]
    },
    {
      "cell_type": "code",
      "execution_count": null,
      "metadata": {},
      "outputs": [],
      "source": [
        "import os\n",
        "import pandas as pd"
      ]
    },
    {
      "cell_type": "code",
      "execution_count": 6,
      "metadata": {
        "colab": {
          "base_uri": "https://localhost:8080/",
          "height": 322
        },
        "id": "F_M3zSctC3kT",
        "outputId": "3a00ad33-799d-4338-9edb-c558b3698adb"
      },
      "outputs": [],
      "source": [
        "def mergeProcessedData(in_folder_path, out_path, emotion_label):\n",
        "    merged_df = pd.DataFrame()\n",
        "\n",
        "    for filename in os.listdir(in_folder_path):\n",
        "        if filename.endswith(\".csv\"):\n",
        "            temp_df = pd.read_csv(os.path.join(in_folder_path, filename))\n",
        "            temp_df[\"emotion\"] = emotion_label\n",
        "            temp_df[emotion_label] = 1\n",
        "            merged_df = pd.concat([merged_df, temp_df], ignore_index=True)\n",
        "\n",
        "    # Save the merged DataFrame as a CSV file\n",
        "merged_df.to_csv(out_path, mode='a', header=not os.path.exists(out_path), index=False)\n"
      ]
    },
    {
      "cell_type": "code",
      "execution_count": 7,
      "metadata": {
        "id": "MxK829AjJn1D"
      },
      "outputs": [],
      "source": [
        "mergeProcessedData(\"data/happy_csv/\", \"data/merged_csv\", \"Happy\")"
      ]
    },
    {
      "cell_type": "code",
      "execution_count": null,
      "metadata": {},
      "outputs": [],
      "source": [
        "mergeProcessedData(\"data/sad_csv/\", \"data/merged_csv\", \"Sad\")"
      ]
    },
    {
      "cell_type": "code",
      "execution_count": null,
      "metadata": {
        "id": "rp-Ep83sDtU8"
      },
      "outputs": [],
      "source": []
    }
  ],
  "metadata": {
    "colab": {
      "include_colab_link": true,
      "provenance": []
    },
    "kernelspec": {
      "display_name": "Python 3",
      "name": "python3"
    },
    "language_info": {
      "codemirror_mode": {
        "name": "ipython",
        "version": 3
      },
      "file_extension": ".py",
      "mimetype": "text/x-python",
      "name": "python",
      "nbconvert_exporter": "python",
      "pygments_lexer": "ipython3",
      "version": "3.9.16"
    }
  },
  "nbformat": 4,
  "nbformat_minor": 0
}
